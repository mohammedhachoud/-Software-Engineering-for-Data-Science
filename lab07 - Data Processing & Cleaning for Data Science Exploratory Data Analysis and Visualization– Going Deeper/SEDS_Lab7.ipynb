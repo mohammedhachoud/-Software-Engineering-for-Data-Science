{
 "cells": [
  {
   "cell_type": "markdown",
   "metadata": {},
   "source": [
    "<figure>\n",
    "  <IMG src=\"figures/logo-esi-sba.png\" WIDTH=300 height=\"100\" ALIGN=\"right\">\n",
    "</figure>\n",
    "\n",
    "# Practical Trainining Series on Software Engineering For Data Science  \n",
    "*By Dr. Belkacem KHALDI (b.khaldi@esi-sba.dz)*"
   ]
  },
  {
   "cell_type": "markdown",
   "metadata": {
    "slideshow": {
     "slide_type": "slide"
    }
   },
   "source": [
    "# Notebook 7: Data Processing & Cleaning for Data Science: Exploratory Data Analysis and Visualization– Going Deeper\n",
    "The purpose of this [Jupyter Notebook] is to getting you go deeper on Data Processing & Cleaning for Data\n",
    "Science. It provides a set of practical Training challenges that allow grasping the different concepts presented in  lecture 7."
   ]
  },
  {
   "cell_type": "markdown",
   "metadata": {},
   "source": [
    "## EDA\n",
    "\n",
    "### Challenge 1:  iTunes dataset\n",
    "Using the iTunes dataset existed in the /data folder of this notebook, you are asked to  proceed with the  exploratory data analysis and visulaization techniques seen in lecture 7 to provide a clean dataset as well as to report a small summary of your EDA results to your team.\n",
    "\n",
    "The EDA should be done using a visualization technique rather than using the basic EDA procedures seen in Lecture 5.\n",
    "See Test from Slide 4 to 16.\n",
    "\n",
    "Report the possible high correlation found from your visualization EDA.\n"
   ]
  },
  {
   "cell_type": "code",
   "execution_count": 4,
   "metadata": {},
   "outputs": [],
   "source": [
    "#Your Solution here\n"
   ]
  },
  {
   "cell_type": "markdown",
   "metadata": {},
   "source": [
    "### Challenge 2: hous_pricing dataset \n",
    "\n",
    "Do the EDA and visualization procedures to explore the data/hous_pricing dataset.\n",
    "\n",
    "Report the possible high correlation found from your visualization EDA.\n"
   ]
  },
  {
   "cell_type": "code",
   "execution_count": null,
   "metadata": {},
   "outputs": [],
   "source": [
    "#Your Solution here"
   ]
  }
 ],
 "metadata": {
  "anaconda-cloud": {},
  "kernelspec": {
   "display_name": "Python 3 (ipykernel)",
   "language": "python",
   "name": "python3"
  },
  "language_info": {
   "codemirror_mode": {
    "name": "ipython",
    "version": 3
   },
   "file_extension": ".py",
   "mimetype": "text/x-python",
   "name": "python",
   "nbconvert_exporter": "python",
   "pygments_lexer": "ipython3",
   "version": "3.9.12"
  }
 },
 "nbformat": 4,
 "nbformat_minor": 2
}
