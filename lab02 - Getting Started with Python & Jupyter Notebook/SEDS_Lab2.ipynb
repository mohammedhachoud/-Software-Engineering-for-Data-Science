{
 "cells": [
  {
   "cell_type": "markdown",
   "metadata": {},
   "source": [
    "<figure>\n",
    "  <IMG src=\"figures/logo-esi-sba.png\" WIDTH=300 height=\"100\" ALIGN=\"right\">\n",
    "</figure>\n",
    "\n",
    "# Practical Trainining Series on Software Engineering For Data Science  \n",
    "*By Dr. Belkacem KHALDI (b.khaldi@esi-sba.dz)*"
   ]
  },
  {
   "cell_type": "markdown",
   "metadata": {
    "slideshow": {
     "slide_type": "slide"
    }
   },
   "source": [
    "# Notebook 2: Getting Started with Python & Jupyter Notebook\n",
    "\n",
    "The purpose of this [Jupyter Notebook] is to getting you started with Python and Jupyter. It provides a set of practical Training challenges that allow grasping the different concepts presented in the 2nd lecture."
   ]
  },
  {
   "cell_type": "markdown",
   "metadata": {
    "slideshow": {
     "slide_type": "slide"
    }
   },
   "source": [
    "## Section 1: Environment reproducibility for Python\n",
    "Typical python projects use multiple packages for various tasks and some of the packages are shared between projects. However, sharing same packages between projects can cause problems. A virtual environment is a way to have multiple, parallel instances of the Python interpreter, each with different package sets and different configurations, avoiding the problems caused by sharing.\n",
    "\n",
    "Some of the popular virtual environment implementations for Python are:\n",
    "\n",
    "* Virtualenv\n",
    "* Conda\n",
    "* pipenv\n",
    "* venv\n",
    "In this Notebook, you will learn how to add a Conda virtual environment to your Jupyter Notebook.\n",
    "\n",
    "### Manipulate Conda Commands:\n",
    "Access to your Anaconda Powershell Terminal As Follows.\n",
    "<figure>\n",
    "  <IMG src=\"figures/snapshot-1-.png\"  ALIGN=\"center\">\n",
    "</figure>\n",
    "\n",
    "In the terminal, follow the steps below to get hans-on-experience using conda evironment:\n",
    "\n",
    "  1. Navigate to your `Desktop` Folder as example\n",
    "  2. Create a new Folder named `seds-lab2` by using window/Linux Command `mkdir` or `mk` based on your OS system.\n",
    "  3. Navigate to your new created directory.\n",
    "  4. Tape `python --version` to know your current python version used in your <base> enviironment.\n",
    "  5. Create a new conda environment with the same name of your folder project siffixed by `-env`  by taping the following command:\n",
    "    `conda create --name seds-lab2-env python=3.8`\n",
    " \n",
    "    Note that with this command, we explicitly targetting the python version 3.8 to be installed in our environment. \n",
    " \n",
    "    <figure>\n",
    "  <IMG src=\"figures/snapshot-2-.png\"  ALIGN=\"center\">\n",
    "</figure> \n",
    "     \n",
    "   Alternatively, you may create an environment with a specific version of Python and multiple packages as follows:\n",
    "     `conda create -n <env-name> python=3.9 scipy=0.17.3 matplotlib`\n",
    "     \n",
    "  6. Verify that the new environment was installed correctly with the following conda command:\n",
    "     `conda env list`\n",
    "     \n",
    " If every thing goes correct, you should see your conda environment is listed. However, It is still not activated.\n",
    "   <figure>\n",
    "  <IMG src=\"figures/snapshot-3-.png\"  ALIGN=\"center\">\n",
    "</figure>\n",
    "     \n",
    "  7. To activate it just tape the following command: `conda activate seds-lab2-env`\n",
    "       \n",
    "        <figure>\n",
    "  <IMG src=\"figures/snapshot-4-.png\"  ALIGN=\"center\">\n",
    "</figure>\n",
    "  \n",
    "  8. Install now the IPython kernel. Note that The IPython kernel is the Python execution backend for Jupyter Notebook. We will Install it in the newly-created virtual environment via the command below: `conda install ipykernel -y`. The `-y` option is just to prevent asking for confirmatioin.\n",
    "            \n",
    "      <figure>\n",
    "  <IMG src=\"figures/snapshot-5-.png\"  ALIGN=\"center\">\n",
    "</figure>       \n",
    "   \n",
    "  9. Now to list all the packages already installed in your current activated environement using the command : `conda list`.\n",
    "          \n",
    " <figure>\n",
    "  <IMG src=\"figures/snapshot-6-.png\"  ALIGN=\"center\">\n",
    "</figure>  \n",
    "     \n",
    "  10. To return to your base conda env, just tape `conda deactivate`.\n",
    "     \n",
    " <figure>\n",
    "  <IMG src=\"figures/snapshot-7-.png\"  ALIGN=\"center\">\n",
    "</figure> \n",
    "     \n",
    "  11.  To difinitely delete your environement including all installed packages tape:  `conda remove --name seds-lab2-env --all` then confirm.\n",
    "     \n",
    "    <figure>\n",
    "  <IMG src=\"figures/snapshot-8-.png\"  ALIGN=\"center\">\n",
    "</figure>   \n",
    "     "
   ]
  },
  {
   "cell_type": "markdown",
   "metadata": {},
   "source": [
    "### Challenge 01:\n",
    "\n",
    "Following the steps above:\n",
    "1. set up a new virtual environment using conda with the latest python version as well as the following  packages: numpy, pandas, matplotlib, and scikit-learn with a single conda command.\n",
    "\n",
    "2. Verify that your environment is correctly setup by listing it.\n",
    "\n",
    "3. Finally delete definetely your environment.\n",
    "\n"
   ]
  },
  {
   "cell_type": "markdown",
   "metadata": {},
   "source": [
    "## Section 2: Python Basics\n",
    "### Basic Variable Types\n",
    "\n",
    "`my_integer = 3.1428571  \n",
    "_my_float = 3.1428571     \n",
    "__my_float__ = 3.1428571  \n",
    "€value = 42.95  \n",
    "cost_in_€ = 42.95\n",
    "cost_in_dollars = 42.95  \n",
    "42.95 = cost_in_dollars  \n",
    "dollar.price = 42.95  \n",
    "favourite#tag = '#like4like'\n",
    "favourite_hashtag = '#일상'\n",
    "my_twit = \"\"\"If you really want to write paragraphs,\n",
    "and paragraphs of text, you do it with the triple quotes. Try it\"\"\"\n",
    "x = y = z = 1\n",
    "a, b, c = 1, 2, 3        \n",
    "i, f, s = 42, 12.94, 'spam'\n",
    "from = 'my friends'\n",
    "raise = 'your glass'\n",
    "pass = 'you shall not'\n",
    "fail = 'you will not'\n",
    "True = 'not False'\n",
    "pay day = 'Thursday'\n",
    "NA = 'not applicable' \n",
    "a = 42;                 \n",
    "A = 13`     \n",
    "\n",
    "* Test each of the above code  by executing ligne by Line (Copy and Past, then execute in a the cell below)\n",
    "* Define whenever it is possible the type of your variable by taping `type(<variable_name>)` \n",
    "* What's the most interesting idea/concept you learned from this?"
   ]
  },
  {
   "cell_type": "code",
   "execution_count": null,
   "metadata": {},
   "outputs": [],
   "source": [
    "#my_integer = 3.1428571  "
   ]
  },
  {
   "cell_type": "markdown",
   "metadata": {},
   "source": [
    "### Calculations with variables\n",
    "Lets now perform some calculations with variables.\n",
    "\n",
    "The standard expressions exist in Python:\n",
    "\n",
    "| Operation      | Symbol |\n",
    "|----------------|--------|\n",
    "| Addition       | +      |\n",
    "| Subtraction    | -      |\n",
    "| Multiplication | *      |\n",
    "| Division       | /      |\n",
    "| Power of       | **     |\n",
    "| Modulo         | %      | \n"
   ]
  },
  {
   "cell_type": "markdown",
   "metadata": {},
   "source": [
    "Given the above, use Python to solve the following problem:\n",
    "\n",
    "The distance $d$ travelled by an object falling for time $t$, given in seconds, is $$d=\\frac  {1}{2}gt^{2}$$ where $g$ is the gravitational constant = $9.8\\, \\text{m.s}^{-2}$. Calculate the distance that you will travel in free-fall gravity in 10 seconds:\n",
    "\n",
    "```python\n",
    "t = ____ # seconds\n",
    "d = ____ # meters\n",
    "print('The distance fallen is ' + str(d) + ' meters.')\n",
    "```"
   ]
  },
  {
   "cell_type": "code",
   "execution_count": 2,
   "metadata": {},
   "outputs": [
    {
     "name": "stdout",
     "output_type": "stream",
     "text": [
      "The distance fallen is 490.00000000000006 meters.\n"
     ]
    }
   ],
   "source": [
    "# Define the variables\n",
    "t = 10  # time in seconds\n",
    "g = 9.8  # gravitational constant in m/s^2\n",
    "\n",
    "# Calculate the distance fallen\n",
    "d = 0.5 * g * t**2\n",
    "\n",
    "# Print the result\n",
    "print(\"The distance fallen is \" + str(d) + \" meters.\")"
   ]
  },
  {
   "cell_type": "markdown",
   "metadata": {},
   "source": [
    "Try it now the other way around to determin the time taken for an object to fall that is:\n",
    "$$ t= \\sqrt  {\\frac  {2d}{g}}$$\n",
    "\n",
    "We will introduce the ``sqrt`` function later, but you can also calculate square root using a power of 0.5, as in $\\sqrt{x} = x^{0.5}$.\n",
    "\n",
    "Using that knowledge, how long will it take for an object to fall from the top of the building you are currently in:\n",
    "\n",
    "```python\n",
    "# Creates a string value in variable 'd'. Verify that it is a string type.\n",
    "d = input('The height of the building, in meters, which I am currently in is: ')  \n",
    "d = float(d)  # convert the string variable to a floating point value\n",
    "t = ____ # seconds\n",
    "\n",
    "# You might also want to investigate the \"round\" function at this point\n",
    "# to improve the output for variable t.\n",
    "\n",
    "print('The time for an object to fall from a building',\n",
    "      'of ' + str(d) + ' meters tall is ' + str(t) + \\\n",
    "      ' seconds.')\n",
    "```"
   ]
  },
  {
   "cell_type": "code",
   "execution_count": 3,
   "metadata": {},
   "outputs": [
    {
     "name": "stdout",
     "output_type": "stream",
     "text": [
      "Type of d_str: <class 'str'>\n",
      "The time for an object to fall from a building of 10.0 meters tall is: 1.4285714285714286 seconds.\n"
     ]
    }
   ],
   "source": [
    "# Get the height of the building from the user as a string\n",
    "d_str = input(\"The height of the building, in meters, which I am currently in is: \")\n",
    "\n",
    "# Check the type of the variable d_str\n",
    "print(\"Type of d_str:\", type(d_str))\n",
    "\n",
    "# Convert the string variable to a floating-point value\n",
    "d = float(d_str)\n",
    "\n",
    "# Calculate the time it takes to fall using the formula t = sqrt(2d/g)\n",
    "import math  # Import the math module for the square root function\n",
    "g = 9.8  # Gravitational constant in m/s^2\n",
    "t = math.sqrt((2 * d) / g)\n",
    "\n",
    "# Print the result\n",
    "print(\"The time for an object to fall from a building of\", str(d), \"meters tall is:\", str(t), \"seconds.\")\n"
   ]
  },
  {
   "cell_type": "markdown",
   "metadata": {},
   "source": [
    "### Conditional Statments\n",
    "Lets now perform some Conditional Operators with variables.\n",
    "\n",
    "Some of the standard Conditional Operatore exist in Python:\n",
    "\n",
    "| Operation      | Symbol |\n",
    "|----------------|--------|\n",
    "| Equal          | ==     |\n",
    "| Not Equal      | !=     |\n",
    "| Greater Than   | >      |\n",
    "| less Than      | <      |\n",
    "| ........       | ..     |\n",
    "\n",
    "\n",
    "\n",
    "In the quadratic equation $$ax^2 + bx + c=0$$ the short-cut solution is given by $$ x= -\\frac{b}{2a}$$\n",
    "but only if $b^2 - 4ac=0$ and $a \\neq 0$.\n",
    "\n",
    "Verify if you can use this short-cut solution for these combinations:\n",
    "\n",
    "* ``a=3, b=-1, c=2    # use tuple-assignment to create these 3 variables in 1 line of code``\n",
    "* ``a=0, b=-1, c=2``  \n",
    "* ``a=3, b=6, c=3``  \n",
    "\n",
    "Write the Python code that will return ``True`` if you can use the shortcut, or ``False`` if you cannot."
   ]
  },
  {
   "cell_type": "code",
   "execution_count": 18,
   "metadata": {},
   "outputs": [
    {
     "name": "stdout",
     "output_type": "stream",
     "text": [
      "True\n",
      "x -1.0\n"
     ]
    }
   ],
   "source": [
    "import math \n",
    "#Your Solution\n",
    "(a,b,c)=(3,6,3);\n",
    "print((((b**2)- 4 * a * c) == 0 ) & (a != 0))\n",
    "if ( (((b**2)- 4 * a * c) == 0 ) & (a != 0) ):\n",
    "    x = -b / (2 * a )\n",
    "\n",
    "print('x',x);\n"
   ]
  },
  {
   "cell_type": "markdown",
   "metadata": {},
   "source": [
    "### Built-in constants and mathematical functions\n",
    "\n",
    "You will certainly need to calculate logs, exponentials, square roots, or require the value of $e$ or $\\pi$ at some point.\n",
    "\n",
    "In this last section we get a bit ahead, and load a Python library to provide this for us. Libraries - we will see later - are a collection of functions and variables that pre-package useful tools. Libraries can be large collections of code, and are for special purposes, so they are not loaded automatically when you launch Python.\n",
    "\n",
    "\n",
    "In Python, there are several libraries that come standard, and one is the ``math`` library. Use the ``import`` command to load the library. The ``math`` library can be used as follows:\n",
    "\n",
    "```python\n",
    "import math\n",
    "radius = 3 # cm\n",
    "area_of_circle = math.pi * radius**2\n",
    "print('The area of the circle is ' + str(area_of_circle))\n",
    "```\n",
    "\n",
    "Now that you know how to use the ``math`` library, it is worth searching what else is in it:\n",
    "\n",
    "> https://www.google.com/search?q=python+math+library\n",
    "\n",
    "All built-in Python libraries are documented in the same way. Searching this way usually brings up the link near the top. Make sure you look at the documentation for Python version 3.x.\n",
    "\n",
    "Now that you have the documentation ready, use functions from that library to calculate:\n",
    "\n",
    "* the *ceiling* and the *floor* of a number, for example ``a = 3.7``\n",
    "* the log to the base $e$ of ``d = 100``\n",
    "* the log to the base 10 of ``e = 100``\n",
    "* the Golden ratio ${\\dfrac {1+{\\sqrt {5}}}{2}}$ \n",
    "* the factorial n=9, in other words $n!$\n",
    "* check that  $n! \\approx \\sqrt{2\\pi n} \\cdot n^n e^{-n}$ "
   ]
  },
  {
   "cell_type": "code",
   "execution_count": 20,
   "metadata": {},
   "outputs": [
    {
     "name": "stdout",
     "output_type": "stream",
     "text": [
      "ceil 4\n",
      "floor 3\n",
      "log of 100 base 𝑒 :4.605173283670418\n",
      "log of 100 base 10 2.0\n"
     ]
    }
   ],
   "source": [
    "#Your Solution\n",
    "import math\n",
    "a= 3.7\n",
    "ceil = math.ceil(a)\n",
    "floor = math.floor(a)\n",
    "print(\"ceil\", ceil)\n",
    "print ('floor', floor)\n",
    "e = 2.71828\n",
    "print(f\"log of 100 base 𝑒 :{math.log(100,e)}\")\n",
    "print(f\"log of 100 base 10 {math.log(100,10)}\")"
   ]
  },
  {
   "cell_type": "markdown",
   "metadata": {},
   "source": [
    "### Challenge\n",
    "1. The population of a country could be approximated by the formula $$ p(t) = \\dfrac{197 273 000}{1 + e^{− 0.03134(t − 1913)}}$$\n",
    "where the time $t$ is in years.\n",
    "\n",
    " * What is the population in 1913?\n",
    " * What is the population in 2013?\n",
    " * Does the population grow and grow without bounds, or does it reach steady state (it stabilizes at some constant value eventually)\n",
    "  \n",
    "1. Explain to your partner whom you are working with, what some of the benefits are of writing your code in Python files.\n"
   ]
  },
  {
   "cell_type": "code",
   "execution_count": 24,
   "metadata": {},
   "outputs": [
    {
     "name": "stdout",
     "output_type": "stream",
     "text": [
      "population in 1913 :98636500.0\n",
      "population in 2013 :189041513.33415148\n"
     ]
    },
    {
     "data": {
      "text/plain": [
       "Text(0, 0.5, 'population')"
      ]
     },
     "execution_count": 24,
     "metadata": {},
     "output_type": "execute_result"
    },
    {
     "data": {
      "image/png": "[encoded data removed]",
      "text/plain": [
       "<Figure size 640x480 with 1 Axes>"
      ]
     },
     "metadata": {},
     "output_type": "display_data"
    }
   ],
   "source": [
    "import matplotlib.pyplot as plt\n",
    "def p(t:float):\n",
    "    x = (197273000)/(1+math.exp(-0.03134*(t-1913)))\n",
    "    return x\n",
    "print(f\"population in 1913 :{p(1913)}\")\n",
    "print(f\"population in 2013 :{p(2013)}\")\n",
    "X = []\n",
    "y = []\n",
    "for i in range(250):\n",
    "    X.append(i+1913)\n",
    "    y.append(p(1913+i))\n",
    "    \n",
    "plt.plot(X,y)\n",
    "plt.xlabel('years')\n",
    "plt.ylabel('population')"
   ]
  },
  {
   "cell_type": "markdown",
   "metadata": {},
   "source": [
    "### More about Strings\n",
    "Lets create this string in Python:\n",
    "\n",
    "```python\n",
    "s = \"\"\"In 1962, John Tukey described a field he called \"data analysis\", which resembles modern data science. In 1985, in a lecture given to the Chinese Academy of Sciences in Beijing, C. F. Jeff Wu used the term \"data science\" for the first time as an alternative name for statistics. Later, attendees at a 1992 statistics symposium at the University of Montpellier II acknowledged the emergence of a new discipline focused on data of various origins and forms, combining established concepts and principles of statistics and data analysis with computing.\"\"\"\n",
    "```\n",
    "\n",
    "Now use the above string to perform the following actions. Look up the Standard library help files for strings (like we showed last time) to find the methods required.\n",
    "\n",
    "1. Print it to screen completely in upper case.\n",
    "2. Try the following: print(s * 8).\n",
    "3. Try the following: print(s + s). Do these two mathematical operations make sense for strings?\n",
    "4. What is the length of this string?\n",
    "5. How many times does the word \"the\" appear in the string?\n",
    "6. At which position in the string does the word `data science` appear? \n",
    "7. Return a boolean True or False if the string `statistics` is followed by a full stop.\n",
    "8. Replace the instance of 'discipline' with 'field'.\n",
    "9. Replace every space in the above sentence with a newline character, and reprint the sentence to the screen.\n",
    "\n",
    "`Hint:`\n",
    "\n",
    "The above are all effectively done using what are called methods.\n",
    "\n",
    "A method an attribute of an object.\n",
    "\n",
    "In the above, a string is your object and objects have one or more methods. You can get a list  of all metthods using the `dir(...)` command.\n",
    "\n",
    "```python\n",
    "dir(s)\n",
    "['__add__', '__class__', '__contains__', '__delattr__', '__dir__', '__doc__', \n",
    "'__eq__', '__format__', '__ge__', '__getattribute__', '__getitem__', '__getnewargs__',\n",
    "'__gt__', '__hash__', '__init__', '__iter__', '__le__', '__len__', '__lt__', '__mod__', \n",
    "'__mul__', '__ne__', '__new__', '__reduce__', '__reduce_ex__', '__repr__', '__rmod__', \n",
    "'__rmul__', '__setattr__', '__sizeof__', '__str__', '__subclasshook__', 'capitalize', \n",
    "'casefold', 'center', 'count', 'encode', 'endswith', 'expandtabs', 'find', 'format', \n",
    "'format_map', 'index', 'isalnum', 'isalpha', 'isdecimal', 'isdigit', 'isidentifier', \n",
    "'islower', 'isnumeric', 'isprintable', 'isspace', 'istitle', 'isupper', 'join', 'ljust', \n",
    "'lower', 'lstrip', 'maketrans', 'partition', 'replace', 'rfind', 'rindex', 'rjust', \n",
    "'rpartition', 'rsplit', 'rstrip', 'split', 'splitlines', 'startswith', 'strip', \n",
    "'swapcase', 'title', 'translate', 'upper', 'zfill']\n",
    "```"
   ]
  },
  {
   "cell_type": "code",
   "execution_count": 42,
   "metadata": {},
   "outputs": [
    {
     "name": "stdout",
     "output_type": "stream",
     "text": [
      "In\n",
      "1962,\n",
      "John\n",
      "Tukey\n",
      "described\n",
      "a\n",
      "field\n",
      "he\n",
      "called\n",
      "\"data\n",
      "analysis\",\n",
      "which\n",
      "resembles\n",
      "modern\n",
      "data\n",
      "science.\n",
      "In\n",
      "1985,\n",
      "in\n",
      "a\n",
      "lecture\n",
      "given\n",
      "to\n",
      "the\n",
      "Chinese\n",
      "Academy\n",
      "of\n",
      "Sciences\n",
      "in\n",
      "Beijing,\n",
      "C.\n",
      "F.\n",
      "Jeff\n",
      "Wu\n",
      "used\n",
      "the\n",
      "term\n",
      "\"data\n",
      "science\"\n",
      "for\n",
      "the\n",
      "first\n",
      "time\n",
      "as\n",
      "an\n",
      "alternative\n",
      "name\n",
      "for\n",
      "statistics.\n",
      "Later,\n",
      "attendees\n",
      "at\n",
      "a\n",
      "1992\n",
      "statistics\n",
      "symposium\n",
      "at\n",
      "the\n",
      "University\n",
      "of\n",
      "Montpellier\n",
      "II\n",
      "acknowledged\n",
      "the\n",
      "emergence\n",
      "of\n",
      "a\n",
      "new\n",
      "discipline\n",
      "focused\n",
      "on\n",
      "data\n",
      "of\n",
      "various\n",
      "origins\n",
      "and\n",
      "forms,\n",
      "combining\n",
      "established\n",
      "concepts\n",
      "and\n",
      "principles\n",
      "of\n",
      "statistics\n",
      "and\n",
      "data\n",
      "analysis\n",
      "with\n",
      "computing.\n"
     ]
    }
   ],
   "source": [
    "#your code\n",
    "s = \"\"\"In 1962, John Tukey described a field he called \"data analysis\", which resembles modern data science. In 1985, in a lecture given to the Chinese Academy of Sciences in Beijing, C. F. Jeff Wu used the term \"data science\" for the first time as an alternative name for statistics. Later, attendees at a 1992 statistics symposium at the University of Montpellier II acknowledged the emergence of a new discipline focused on data of various origins and forms, combining established concepts and principles of statistics and data analysis with computing.\"\"\"\n",
    "#print(s.upper())\n",
    "#print(s*8)\n",
    "#print(s+s) yes it makes sense\n",
    "#print(len(s))\n",
    "#print(s.count(\"the\"))\n",
    "#print(s.index(\"data science\"))\n",
    "#print(s[s.index('statistics'):s.index('statistics')+len('statistics')+1].endswith('.'))\n",
    "#s.replace('discipline', 'field')\n",
    "s2= s.replace(' ','\\n')\n",
    "print(s2)"
   ]
  },
  {
   "cell_type": "markdown",
   "metadata": {},
   "source": [
    "### Compound Data Types: Lists\n",
    "\n",
    "We will cover creating, adding, accessing and using lists of objects.\n",
    "\n",
    "You have seen this before: create a list with the square bracket characters: ``[`` and ``]``.\n",
    "\n",
    "For example: ``words = ['4th', 'year', 'students','are','very', 'excited','for','seds' ]``\n",
    "\n",
    "One of the most useful functions in Python is ``len(...)``. Verify length of your list. Does it have the **type** you expect?"
   ]
  },
  {
   "cell_type": "code",
   "execution_count": 43,
   "metadata": {},
   "outputs": [
    {
     "name": "stdout",
     "output_type": "stream",
     "text": [
      "8\n"
     ]
    }
   ],
   "source": [
    "#your code to test\n",
    "words = ['4th', 'year', 'students','are','very', 'excited','for','seds' ]\n",
    "print(len(words))"
   ]
  },
  {
   "cell_type": "markdown",
   "metadata": {},
   "source": [
    "The entries in the list can be mixed types (contrast this to most other programming languages!)\n",
    "    \n",
    "```python\n",
    "group = ['pytorch', 'tesorflow', 100, 'machine learning' ]\n",
    "```\n",
    "\n",
    "An important test is to check if the list contains something:\n",
    "\n",
    "```python\n",
    "'tesorflow' in group\n",
    "499 in group\n",
    "```\n",
    "\n",
    "Like we saw with strings, you can use the ``*`` and ``+`` operators:\n",
    "\n",
    "```python\n",
    "group * 3\n",
    "group + group   # might not do what you expect!\n",
    "group - group   # oooops\n",
    "```\n",
    "\n",
    "And like strings, you refer to them based on the position counter of 0:\n",
    "```python\n",
    "group[0]\n",
    "\n",
    "# but this is also possible:\n",
    "group[-3]\n",
    "\n",
    "# however, is this expected?\n",
    "group[4]\n",
    "```\n",
    "\n",
    "Accessing List items by Loop:\n",
    "```python\n",
    "for _it in group:\n",
    "    print(_it)\n",
    "```"
   ]
  },
  {
   "cell_type": "code",
   "execution_count": 54,
   "metadata": {},
   "outputs": [
    {
     "name": "stdout",
     "output_type": "stream",
     "text": [
      "True\n",
      "['pytorch', 'tesorflow', 100, 'machine learning', 'pytorch', 'tesorflow', 100, 'machine learning', 'pytorch', 'tesorflow', 100, 'machine learning']\n",
      "['pytorch', 'tesorflow', 100, 'machine learning', 'pytorch', 'tesorflow', 100, 'machine learning']\n"
     ]
    },
    {
     "data": {
      "text/plain": [
       "100"
      ]
     },
     "execution_count": 54,
     "metadata": {},
     "output_type": "execute_result"
    }
   ],
   "source": [
    "#your code to test\n",
    "group = ['pytorch', 'tesorflow', 100, 'machine learning' ]\n",
    "print('tesorflow' in group)\n",
    "499 in group\n",
    "print(group * 3)\n",
    "print(group + group)   # might not do what you expect!\n",
    "#group - group   # oooops\n",
    "group[0]\n",
    "\n",
    "# but this is also possible:\n",
    "group[-2]\n",
    "\n",
    "# however, is this expected?\n",
    "#group[4]"
   ]
  },
  {
   "cell_type": "markdown",
   "metadata": {},
   "source": [
    "Lists, also have  some methods that you can use. Lists in fact have far fewer methods than strings.\n",
    "```python\n",
    "dir(....) # what do you fill in here?\n",
    "```\n",
    "\n",
    "How many methods do you see which you can apply to a list? \n",
    "\n",
    "Let's try a few of them out:\n",
    "1. Try ``append`` a new entry to the ``group`` list you created above: add the entry \"fastai\"\n",
    "1. Create a new list ``reptiles = ['crocodile', 'turtle']`` and then try: ``group.extend(reptiles)``.\n",
    "1. Print the list. Remove the ``crocodile`` and ``turtle`` entries from the list. Print it again to verify it succeeded. \n",
    "1. Use the following command: ``group.reverse()``, and print the ``group`` variable to the screen.\n",
    "1. Try ``group.sort()`` and try fix the error message.\n"
   ]
  },
  {
   "cell_type": "code",
   "execution_count": 56,
   "metadata": {},
   "outputs": [
    {
     "data": {
      "text/plain": [
       "(47, 80)"
      ]
     },
     "execution_count": 56,
     "metadata": {},
     "output_type": "execute_result"
    }
   ],
   "source": [
    "#your code to test\n",
    "len(dir(list) ),len(dir(str) )"
   ]
  },
  {
   "cell_type": "code",
   "execution_count": 64,
   "metadata": {},
   "outputs": [
    {
     "name": "stdout",
     "output_type": "stream",
     "text": [
      "None\n",
      "None\n"
     ]
    }
   ],
   "source": [
    "group = ['pytorch', 'tesorflow', 100, 'machine learning' ]\n",
    "group.append('Hello')\n",
    "print(group.extend(['crocodile','turtle']))\n",
    "# group.remove('crocodile')\n",
    "# group.remove('turtle')\n",
    "print(group.reverse())\n",
    "# group[2] = str(group[2])\n",
    "# group.sort()"
   ]
  },
  {
   "cell_type": "markdown",
   "metadata": {},
   "source": [
    "#### More About Lists Indexing and Slicing\n",
    "List are like strings, they can be indexed and sliced. For example lets create a list called `my_list` as follows:\n",
    "\n",
    "```python\n",
    "my_list = [_ for _ in 'abcdefghi']\n",
    "my_list\n",
    "['a', 'b', 'c', 'd', 'e', 'f', 'g', 'h', 'i']\n",
    "```\n",
    "\n",
    "##### Indexing\n",
    "To retrieve an element of the list, we use the index operator (`[]`). Note that:\n",
    "* Lists are “zero indexed”.\n",
    "* It is possible to use negative indexing (from the end of the list), where `[-1]` returns the last element. \n",
    "\n",
    "```python\n",
    "  0    1    2    3    4    5    6    7    8\n",
    "  ↓    ↓    ↓    ↓    ↓    ↓    ↓    ↓    ↓\n",
    "['a', 'b', 'c', 'd', 'e', 'f', 'g', 'h', 'i']\n",
    "  ↑    ↑    ↑    ↑    ↑    ↑    ↑    ↑    ↑\n",
    " -9   -8   -7   -6   -5   -4   -3   -2   -1\n",
    "```\n",
    "\n",
    "##### Slicing\n",
    "A slice is a subset of list elements. In the case of lists, a single slice will always be of contiguous elements. Slice notation takes the form\n",
    "`\n",
    "my_list[start:stop]\n",
    "`\n",
    "where `start` is the index of the first element to include, and `stop` is the index of the item to stop at without including it in the slice. So `my_list[1:5]` returns `['b', 'c', 'd', 'e']`\n",
    "\n",
    "```python\n",
    "  0    1    2    3    4    5    6    7    8\n",
    "  ×    ↓    ↓    ↓    ↓    ×    ×    ×    ×\n",
    "['a', 'b', 'c', 'd', 'e', 'f', 'g', 'h', 'i']\n",
    "```\n",
    "\n",
    "##### Stepping\n",
    "The slicer can take an optional third argument, which sets the interval at which elements are included in the slice. So `my_list[::2]` returns `['a', 'c', 'e', 'g', 'i']`\n",
    "```python\n",
    "  0    1    2    3    4    5    6    7    8\n",
    "  ↓    ×   ↓²    ×    ↓²   ×   ↓²    ×    ↓²\n",
    "['a', 'b', 'c', 'd', 'e', 'f', 'g', 'h', 'i']\n",
    "```"
   ]
  },
  {
   "cell_type": "markdown",
   "metadata": {},
   "source": [
    "Try it: Given the string :\n",
    " ```python \n",
    "'I am very excited of pursuing the IASD specialization at ESI-SBA'.\n",
    "```\n",
    "\n",
    "- Outputs the reverse of the string using string slicing.\n",
    "- Extract Every Even character and concatenate them to form a new string."
   ]
  },
  {
   "cell_type": "code",
   "execution_count": 69,
   "metadata": {},
   "outputs": [
    {
     "name": "stdout",
     "output_type": "stream",
     "text": [
      "['a', 'b', 'c', 'd', 'e', 'f']\n"
     ]
    }
   ],
   "source": [
    "#your code to test\n",
    "my_list = [_ for _ in 'abcdefghi']\n",
    "print(my_list[0:6])"
   ]
  },
  {
   "cell_type": "markdown",
   "metadata": {},
   "source": [
    "###  Compound Data Types: ``Dictionary`` data type\n",
    "\n",
    "A dictionary is a Python ***object*** that is a flexible data container for other objects. It contains these objects using what are called ***key*** - ***value*** pairs. You create a dictionary like this:\n",
    "\n",
    "```python\n",
    "random_objects = {'an int': 45,\n",
    "                  'a float': 12.34,\n",
    "                  'short_list': [1, 4, 7],\n",
    "                  'longer list': [2, 4, 6, 9, 12, 16, 20, 25, 30, 36, 42],\n",
    "                  'website': \"https://learnche.org\",\n",
    "                  'nested_tuple': (1, 2.0, [3, 4], '5', (6, 7.0))\n",
    "                 }\n",
    "print(random_objects)\n",
    "```\n",
    "\n",
    "Notice that it is unlikely when you print the ``random_objects`` variable, that you see the dictionary written back in the order shown above. Dictionaries are an ***unordered*** container. \n",
    "\n",
    "The ***keys*** and ***values*** of this dictionary are:\n",
    "```python\n",
    "\n",
    "# These both return a list:\n",
    "random_objects.keys()\n",
    "random_objects.values()\n",
    "\n",
    "# What is the \"type\" of this dictionary?\n",
    "print('The object is of: {}'.format(type(random_objects)))\n",
    "\n",
    "# You can access individual elements:\n",
    "random_objects['short_list']\n",
    "```\n",
    "\n",
    "In the above example, the keys were all ***string*** objects. But that is not required. You can use integers, floating point values, strings, tuples, or a mixture of them. There are other options too, but these are comprehensive enough.\n",
    "\n",
    "Dictionary values may be any ***objects***, even other dictionaries. Yes, so a dictionary within a dictionary is possible. We will use this below. That is why we partially why we waited to introduce dictionaries until now.\n",
    "\n",
    "Dictionary objects are excellent ***containers***. If you need to return several objects from a function, collect them in a dictionary, and return them in that single object. It is not required, but it can make your code neater, and more logical.\n",
    "\n",
    "### Try it\n",
    "\n",
    "Create a dictionary for yourself with 5 `key`-`value` pairs, which summarizes a regression model. The `key` is the first item below, followed by a description of what you should create as the `value`:\n",
    "1. `intercept`: containing a floating-point value which is the intercept of your linear model\n",
    "2. `slope`: a floating-point slope value\n",
    "3. `R2`: the $R^2$ value of the regression model\n",
    "4. `std_err`: a value which is the model's standard error\n",
    "\n",
    "`Hint:`\n",
    "\n",
    "we will just use the following code without deving into details to help return the results of your regression model using stats module from scipy package.\n",
    "\n",
    "```python\n",
    "from scipy import stats\n",
    "slope, intercept, r2, _, std_err = stats.linregress(x, y)\n",
    "```\n",
    "Where x and y are two vectors (lists) of 5 floats each\n",
    "\n",
    "You can create the above dictionary in a single line of code. But what if you want to add something new to an existing dictionary later?\n",
    "\n",
    "```python\n",
    "d = { ... } # create your dictionary\n",
    "d['new key'] = 'additional value'\n",
    "```\n",
    "\n",
    "And you can overwrite an existing key-value pair in the same way:\n",
    "```python\n",
    "random_objects['an int'] = 'replaced with a string!'\n",
    "```\n",
    "This implies you can never have 2 keys which are the same. If you try to create a second key which already exists, it will overwrite the value associated with the existing key."
   ]
  },
  {
   "cell_type": "code",
   "execution_count": 72,
   "metadata": {},
   "outputs": [
    {
     "name": "stdout",
     "output_type": "stream",
     "text": [
      "{'an int': 45, 'a float': 12.34, 'short_list': [1, 4, 7], 'longer list': [2, 4, 6, 9, 12, 16, 20, 25, 30, 36, 42], 'website': 'https://learnche.org', 'nested_tuple': (1, 2.0, [3, 4], '5', (6, 7.0))}\n",
      "dict_keys(['an int', 'a float', 'short_list', 'longer list', 'website', 'nested_tuple'])\n",
      "The object is of: <class 'dict'>\n"
     ]
    },
    {
     "data": {
      "text/plain": [
       "[1, 4, 7]"
      ]
     },
     "execution_count": 72,
     "metadata": {},
     "output_type": "execute_result"
    }
   ],
   "source": [
    "#your code to test\n",
    "random_objects = {'an int': 45,\n",
    "                  'a float': 12.34,\n",
    "                  'short_list': [1, 4, 7],\n",
    "                  'longer list': [2, 4, 6, 9, 12, 16, 20, 25, 30, 36, 42],\n",
    "                  'website': \"https://learnche.org\",\n",
    "                  'nested_tuple': (1, 2.0, [3, 4], '5', (6, 7.0))\n",
    "                 }\n",
    "print(random_objects)\n",
    "# These both return a list:\n",
    "print(random_objects.keys())\n",
    "random_objects.values()\n",
    "\n",
    "# What is the \"type\" of this dictionary?\n",
    "print('The object is of: {}'.format(type(random_objects)))\n",
    "\n",
    "# You can access individual elements:\n",
    "random_objects['short_list']"
   ]
  },
  {
   "cell_type": "markdown",
   "metadata": {},
   "source": [
    "## Section 3: Basic Notions of Vectors, Matrices and Arrays, without using Numpy\n",
    "\n",
    "Let's quickly get a few definitions out of the way, and start. Start by collecting some objects together, first singly (scalar), then in a list (vector), then as a 'spreadsheet' (matrix), then as an array (3-dimensional, or higher dimensional).\n",
    "\n",
    "\n",
    "### Scalars\n",
    "\n",
    "If our collection of (numeric) objects coincidentally is only a single number, we call that a ***scalar***.\n",
    "* ```python\n",
    "scalar_1 = 45.2\n",
    "```\n",
    "\n",
    "* ```python\n",
    "scalar_2 = 0\n",
    "```\n",
    "\n",
    "* ```python\n",
    "scalar_3 = -12\n",
    "```\n",
    "\n",
    "### Vectors\n",
    "\n",
    "A collection of scalars in a single row, or column, is very much like a `list` in regular Python. This collection we then call a ***vector***.\n",
    "* ```python \n",
    "list_1 = [1, 2, 6, -2, 0]\n",
    "```\n",
    "\n",
    "* ```python \n",
    "list_2 = [0, 0, 0, 0, 0, 0, 0, 0]\n",
    "```\n",
    "\n",
    "* ```python \n",
    "list_3 = [254.2, 501, 368.4, 697, 476.5, 188.2, 525.6, 451, 514]\n",
    "```\n",
    "\n",
    "\n",
    "We say this collection has a single dimension: a single row of numbers, or a single column of numbers. If there coincidentally is 1 number in the collection, we simply call that a scalar. But in theory we can store as many numbers as we like in our vector.\n",
    "\n",
    "Think, for example, the impeller speed of a batch reactor, measured every minute, during the duration of a batch. This 1-dimensional sequence is called a vector.\n",
    "\n",
    "### Matrix\n",
    "\n",
    "If we take several 1-dimensional vectors, but **each one of the same length**, and put them together, side-by-side then we get a ***matrix***. \n",
    "\n",
    "* ```python \n",
    "matrix_1 = [ [1, 2, 6, -2], [4, 3, 2, 1] ]   # has 2 rows and 4 columns```\n",
    "\n",
    "* ```python \n",
    "matrix_2 = [ [0, 0, 0], [0, 0, 0], [0, 0, 0] ]   # has 3 rows and 3 columns```\n",
    "\n",
    "* ```python \n",
    "matrix_3 = [ [9, 8, 7, 6], [5, 4, 4, 3] ]   # also has 2 rows and 4 columns```\n",
    "\n",
    "You could crudely store, as we showed above, a matrix by using a list of lists, where the main list (the outside list) contains objects which themselves are lists. This is perfectly valid in Python: remember that a list can contain objects of any type, including other lists. But while this \"list-of-lists\" approach can store your data, it would not be great for calculations.\n",
    "\n",
    "**Try this:** (the result is complely unintuitive for mathematical operations)\n",
    "```python\n",
    "matrix_1 + matrix_3\n",
    "matrix_3 + 7\n",
    "```\n",
    "    \n",
    "Another point to note is that a vector is simply a matrix, but where one of the dimensions is equal to 1: either 1 row, or 1 column. \n",
    "\n",
    "Matrices are widely used in engineering and data analysis. Often each row is an object, or a sample, or an observation. And each column represents some sort of value measured on that object or sample. For example:\n",
    "<table>\n",
    "  <tr>\n",
    "    <th></th>\n",
    "    <th>Measurement 1</th>\n",
    "    <th>Measurement 2</th>\n",
    "    <th>Measurement 3</th>\n",
    "    <th>Measurement 4</th>\n",
    "  </tr>\n",
    "  <tr class=\"odd\">\n",
    "    <td>Sample 1</td>\n",
    "    <td>5.5</td>\n",
    "    <td>0.55</td>\n",
    "    <td>-23.4</td>\n",
    "    <td>561522.2</td>\n",
    "  </tr>\n",
    "  <tr class=\"odd\">\n",
    "    <td>Sample 2</td>\n",
    "    <td>6.7</td>\n",
    "    <td>0.44</td>\n",
    "    <td>-22.2</td>\n",
    "    <td>526616.4</td>\n",
    "  </tr>\n",
    "  <tr class=\"odd\">\n",
    "    <td>Sample 3</td>\n",
    "    <td>4.9</td>\n",
    "    <td>0.61</td>\n",
    "    <td>-38.1</td>\n",
    "    <td>612515.7</td>\n",
    "  </tr>\n",
    "</table>\n",
    "This matrix would have 3 rows and 4 columns.\n",
    "\n",
    "### Array\n",
    "\n",
    "If we take several 2-dimensional matrices, but **each one with the same number of rows and columns**, and put them together, then we get a ***3-dimensional array***. \n",
    "\n",
    "A matrix was a list-of-lists. We can go up to a third dimension and make a list-of-lists-of-lists. \n",
    "\n",
    "Why stop there? We can go to higher and higher dimensions. We use a general names for such a collection of (numeric) objects: an ***array***. \n",
    "\n",
    "An array is an *n*-dimensional structure of numbers. You can therefore say:\n",
    "* a vector is a 1-dimensional data structure\n",
    "* a matrix is a 2-dimensional data structure\n",
    "* an array is an *n*-dimensional data structure\n",
    "\n",
    "\n",
    "<img src=\"Figures/data-layers-3d-structure.png\" style=\"width: 400px; float: right\"/> \n",
    "\n",
    "For example, a 3-dimensional array here shows data collected in a lab: we are performing the experiment several times (``N``, the layers - each layer is a matrix actually - that lies on top of each other). \n",
    "\n",
    "In each experiment we collect a matrix of data from several sensors. There are ``K`` sensors. We set the sensors to collect data on a regular interval, once every 3 seconds, for example, so that we end up with exactly the same number of samples per sensor, ``J`` values per sensor.\n",
    "\n",
    "\n",
    "Storing the data like this is useful, because now you could perform calculations on all experiments over all time, for all sensors in array **X**.\n",
    "\n",
    "*For example:* you can calculate the average in the direction of arrow ``J``, to reduce the *array* to a *matrix*. That matrix would be the average value of the sensor for the experiments. That reduced matrix would have ``N`` rows and ``K`` columns.\n",
    "\n",
    "Engineering applications benefit from using *vectors*, or *matrices* or *arrays*: they are sequences of data all of the _same type_. Arrays behave a lot like lists in Python, except for the constraint that all elements have the same type. \n"
   ]
  },
  {
   "cell_type": "code",
   "execution_count": 33,
   "metadata": {},
   "outputs": [],
   "source": [
    "#your code to try the above scenario"
   ]
  },
  {
   "cell_type": "markdown",
   "metadata": {},
   "source": [
    "## Section 4: Jupyter Presentation\n",
    "Convert this Jupyter Notebook to reveal.js presentation\n",
    "\n",
    "1. To convert a notebook into a reveal.js presentation, go to the View menu and set Cell Toolbar to Slideshow.\n",
    "2. Organize the cells of your notebook into slides and sub-slides.\n",
    "3. launch in a terminal window the following command: `jupyter nbconvert {NOTEBOOK_NAME}.ipynb to slide  --post serve`\n",
    "4. open it on a new tab of your system default browser at\n",
    "`http://localhost:8000/{NOTEBOOK_NAME}.slides.html/`\n",
    "\n",
    "\n"
   ]
  },
  {
   "cell_type": "code",
   "execution_count": null,
   "metadata": {},
   "outputs": [],
   "source": []
  }
 ],
 "metadata": {
  "anaconda-cloud": {},
  "kernelspec": {
   "display_name": "Python 3 (ipykernel)",
   "language": "python",
   "name": "python3"
  },
  "language_info": {
   "codemirror_mode": {
    "name": "ipython",
    "version": 3
   },
   "file_extension": ".py",
   "mimetype": "text/x-python",
   "name": "python",
   "nbconvert_exporter": "python",
   "pygments_lexer": "ipython3",
   "version": "3.10.7"
  }
 },
 "nbformat": 4,
 "nbformat_minor": 4
}
